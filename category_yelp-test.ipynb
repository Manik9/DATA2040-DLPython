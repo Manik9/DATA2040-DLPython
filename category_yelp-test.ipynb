{
 "cells": [
  {
   "cell_type": "code",
   "execution_count": 2,
   "metadata": {},
   "outputs": [
    {
     "name": "stderr",
     "output_type": "stream",
     "text": [
      "/home/ubuntu/anaconda3/lib/python3.6/site-packages/h5py/__init__.py:36: FutureWarning: Conversion of the second argument of issubdtype from `float` to `np.floating` is deprecated. In future, it will be treated as `np.float64 == np.dtype(float).type`.\n",
      "  from ._conv import register_converters as _register_converters\n",
      "Using TensorFlow backend.\n",
      "/home/ubuntu/anaconda3/lib/python3.6/site-packages/matplotlib/__init__.py:1067: UserWarning: Duplicate key in file \"/home/ubuntu/.config/matplotlib/matplotlibrc\", line #2\n",
      "  (fname, cnt))\n",
      "/home/ubuntu/anaconda3/lib/python3.6/site-packages/matplotlib/__init__.py:1067: UserWarning: Duplicate key in file \"/home/ubuntu/.config/matplotlib/matplotlibrc\", line #3\n",
      "  (fname, cnt))\n"
     ]
    },
    {
     "name": "stdout",
     "output_type": "stream",
     "text": [
      "0:01:49.260744\n"
     ]
    }
   ],
   "source": [
    "from collections import Counter\n",
    "from datetime import datetime\n",
    " \n",
    "import json\n",
    " \n",
    "from keras.layers import Embedding, LSTM, Dense, Conv1D, MaxPooling1D, Dropout, Activation\n",
    "from keras.models import Sequential\n",
    "from keras.preprocessing.text import Tokenizer\n",
    "from keras.preprocessing.sequence import pad_sequences\n",
    " \n",
    "import numpy as np\n",
    "\n",
    "t1 = datetime.now()\n",
    "with open(\"yelp_data/dataset/review.json\") as f:\n",
    "    reviews = f.read().strip().split(\"\\n\")\n",
    "reviews = [json.loads(review) for review in reviews]\n",
    "print(datetime.now() - t1)"
   ]
  },
  {
   "cell_type": "code",
   "execution_count": 3,
   "metadata": {},
   "outputs": [],
   "source": [
    "texts = [review['text'] for review in reviews]\n",
    "\n",
    "numStars = [review['stars'] for review in reviews]\n",
    "balanced_texts = []\n",
    "balanced_labels = []\n",
    "limit = 100000  # Change this to grow/shrink the dataset\n",
    "pos_counts = [0, 0, 0, 0, 0]\n",
    "for i in range(len(texts)):\n",
    "    score = numStars[i]-1\n",
    "    if pos_counts[score] < limit:\n",
    "        balanced_texts.append(texts[i])\n",
    "        balanced_labels.append(numStars[i]-1)\n",
    "        pos_counts[score] += 1"
   ]
  },
  {
   "cell_type": "code",
   "execution_count": 4,
   "metadata": {},
   "outputs": [],
   "source": [
    "tokenizer = Tokenizer(num_words=20000)\n",
    "tokenizer.fit_on_texts(balanced_texts)\n",
    "sequences = tokenizer.texts_to_sequences(balanced_texts)\n",
    "data = pad_sequences(sequences, maxlen=300)"
   ]
  },
  {
   "cell_type": "code",
   "execution_count": 5,
   "metadata": {},
   "outputs": [
    {
     "name": "stdout",
     "output_type": "stream",
     "text": [
      "(500000, 5)\n",
      "(500000, 300)\n"
     ]
    }
   ],
   "source": [
    "from keras.utils import to_categorical\n",
    "\n",
    "model = Sequential()\n",
    "model.add(Embedding(20000, 128, input_length=300))\n",
    "model.add(LSTM(128, dropout=0.2, recurrent_dropout=0.2))\n",
    "model.add(Dense(5, activation='sigmoid'))\n",
    "model.compile(loss='categorical_crossentropy', optimizer='rmsprop', metrics=['accuracy'],)\n",
    "newLabels=np.array(balanced_labels)\n",
    "newLabels=to_categorical(newLabels)\n",
    "print(newLabels.shape)\n",
    "print(data.shape)"
   ]
  },
  {
   "cell_type": "code",
   "execution_count": 6,
   "metadata": {},
   "outputs": [
    {
     "name": "stdout",
     "output_type": "stream",
     "text": [
      "Train on 300000 samples, validate on 200000 samples\n",
      "Epoch 1/10\n",
      "300000/300000 [==============================] - 8088s 27ms/step - loss: 0.9028 - acc: 0.6132 - val_loss: 1.0729 - val_acc: 0.5262\n",
      "Epoch 2/10\n",
      "300000/300000 [==============================] - 8091s 27ms/step - loss: 0.7725 - acc: 0.6692 - val_loss: 1.0729 - val_acc: 0.5451\n",
      "Epoch 3/10\n",
      "300000/300000 [==============================] - 8053s 27ms/step - loss: 0.7375 - acc: 0.6848 - val_loss: 1.0438 - val_acc: 0.5514\n",
      "Epoch 4/10\n",
      "300000/300000 [==============================] - 6203s 21ms/step - loss: 0.7155 - acc: 0.6960 - val_loss: 1.0392 - val_acc: 0.5519\n",
      "Epoch 5/10\n",
      "300000/300000 [==============================] - 4395s 15ms/step - loss: 0.7011 - acc: 0.7039 - val_loss: 1.0099 - val_acc: 0.5716\n",
      "Epoch 6/10\n",
      "300000/300000 [==============================] - 4390s 15ms/step - loss: 0.6861 - acc: 0.7125 - val_loss: 1.0213 - val_acc: 0.5697\n",
      "Epoch 7/10\n",
      "300000/300000 [==============================] - 4424s 15ms/step - loss: 0.6783 - acc: 0.7161 - val_loss: 1.0664 - val_acc: 0.5489\n",
      "Epoch 8/10\n",
      "300000/300000 [==============================] - 4485s 15ms/step - loss: 0.6708 - acc: 0.7216 - val_loss: 0.9914 - val_acc: 0.5831\n",
      "Epoch 9/10\n",
      "300000/300000 [==============================] - 4488s 15ms/step - loss: 0.6638 - acc: 0.7255 - val_loss: 1.0382 - val_acc: 0.5702\n",
      "Epoch 10/10\n",
      "300000/300000 [==============================] - 4411s 15ms/step - loss: 0.6616 - acc: 0.7281 - val_loss: 1.0528 - val_acc: 0.5674\n"
     ]
    }
   ],
   "source": [
    "history_big=model.fit(data, newLabels, validation_split=0.4, epochs=10)"
   ]
  }
 ],
 "metadata": {
  "kernelspec": {
   "display_name": "Python 3",
   "language": "python",
   "name": "python3"
  },
  "language_info": {
   "codemirror_mode": {
    "name": "ipython",
    "version": 3
   },
   "file_extension": ".py",
   "mimetype": "text/x-python",
   "name": "python",
   "nbconvert_exporter": "python",
   "pygments_lexer": "ipython3",
   "version": "3.6.4"
  }
 },
 "nbformat": 4,
 "nbformat_minor": 2
}

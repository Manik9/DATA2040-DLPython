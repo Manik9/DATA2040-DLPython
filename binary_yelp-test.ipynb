{
 "cells": [
  {
   "cell_type": "code",
   "execution_count": 1,
   "metadata": {},
   "outputs": [
    {
     "name": "stderr",
     "output_type": "stream",
     "text": [
      "/home/ubuntu/anaconda3/lib/python3.6/site-packages/h5py/__init__.py:36: FutureWarning: Conversion of the second argument of issubdtype from `float` to `np.floating` is deprecated. In future, it will be treated as `np.float64 == np.dtype(float).type`.\n",
      "  from ._conv import register_converters as _register_converters\n",
      "Using TensorFlow backend.\n",
      "/home/ubuntu/anaconda3/lib/python3.6/site-packages/matplotlib/__init__.py:1067: UserWarning: Duplicate key in file \"/home/ubuntu/.config/matplotlib/matplotlibrc\", line #2\n",
      "  (fname, cnt))\n",
      "/home/ubuntu/anaconda3/lib/python3.6/site-packages/matplotlib/__init__.py:1067: UserWarning: Duplicate key in file \"/home/ubuntu/.config/matplotlib/matplotlibrc\", line #3\n",
      "  (fname, cnt))\n"
     ]
    },
    {
     "name": "stdout",
     "output_type": "stream",
     "text": [
      "0:01:35.237912\n"
     ]
    }
   ],
   "source": [
    "from collections import Counter\n",
    "from datetime import datetime\n",
    " \n",
    "import json\n",
    " \n",
    "from keras.layers import Embedding, LSTM, Dense, Conv1D, MaxPooling1D, Dropout, Activation\n",
    "from keras.models import Sequential\n",
    "from keras.preprocessing.text import Tokenizer\n",
    "from keras.preprocessing.sequence import pad_sequences\n",
    " \n",
    "import numpy as np\n",
    "\n",
    "t1 = datetime.now()\n",
    "with open(\"yelp_data/dataset/review.json\") as f:\n",
    "    reviews = f.read().strip().split(\"\\n\")\n",
    "reviews = [json.loads(review) for review in reviews]\n",
    "print(datetime.now() - t1)"
   ]
  },
  {
   "cell_type": "code",
   "execution_count": 2,
   "metadata": {},
   "outputs": [],
   "source": [
    "texts = [review['text'] for review in reviews]\n",
    "\n",
    "binstars = [0 if review['stars'] <= 3 else 1 for review in reviews]\n",
    "bin_texts = []\n",
    "bin_labels = []\n",
    "limit = 100000  # Change this to grow/shrink the dataset\n",
    "neg_pos_counts = [0, 0]\n",
    "for i in range(len(texts)):\n",
    "    polarity = binstars[i]\n",
    "    if neg_pos_counts[polarity] < limit:\n",
    "        bin_texts.append(texts[i])\n",
    "        bin_labels.append(binstars[i])\n",
    "        neg_pos_counts[polarity] += 1"
   ]
  },
  {
   "cell_type": "code",
   "execution_count": 3,
   "metadata": {},
   "outputs": [],
   "source": [
    "tokenizer = Tokenizer(num_words=20000)\n",
    "tokenizer.fit_on_texts(bin_texts)\n",
    "sequences = tokenizer.texts_to_sequences(bin_texts)\n",
    "data = pad_sequences(sequences, maxlen=300)"
   ]
  },
  {
   "cell_type": "code",
   "execution_count": 4,
   "metadata": {},
   "outputs": [
    {
     "name": "stdout",
     "output_type": "stream",
     "text": [
      "200000\n"
     ]
    }
   ],
   "source": [
    "model = Sequential()\n",
    "model.add(Embedding(20000, 128, input_length=300))\n",
    "model.add(LSTM(128, dropout=0.2, recurrent_dropout=0.2))\n",
    "model.add(Dense(1, activation='sigmoid'))\n",
    "model.compile(loss='binary_crossentropy', optimizer='rmsprop', metrics=['accuracy'],)\n",
    "print(len(bin_labels))"
   ]
  },
  {
   "cell_type": "code",
   "execution_count": 5,
   "metadata": {},
   "outputs": [
    {
     "name": "stdout",
     "output_type": "stream",
     "text": [
      "Train on 100000 samples, validate on 100000 samples\n",
      "Epoch 1/10\n",
      "100000/100000 [==============================] - 2822s 28ms/step - loss: 0.3316 - acc: 0.8617 - val_loss: 0.2952 - val_acc: 0.8730\n",
      "Epoch 2/10\n",
      "100000/100000 [==============================] - 2838s 28ms/step - loss: 0.2502 - acc: 0.9001 - val_loss: 0.3170 - val_acc: 0.8708\n",
      "Epoch 3/10\n",
      "100000/100000 [==============================] - 2887s 29ms/step - loss: 0.2285 - acc: 0.9093 - val_loss: 0.2756 - val_acc: 0.8844\n",
      "Epoch 4/10\n",
      "100000/100000 [==============================] - 2854s 29ms/step - loss: 0.2141 - acc: 0.9154 - val_loss: 0.2878 - val_acc: 0.8717\n",
      "Epoch 5/10\n",
      "100000/100000 [==============================] - 2794s 28ms/step - loss: 0.2039 - acc: 0.9203 - val_loss: 0.2743 - val_acc: 0.8900\n",
      "Epoch 6/10\n",
      "100000/100000 [==============================] - 2837s 28ms/step - loss: 0.1928 - acc: 0.9256 - val_loss: 0.2493 - val_acc: 0.8947\n",
      "Epoch 7/10\n",
      "100000/100000 [==============================] - 2787s 28ms/step - loss: 0.1855 - acc: 0.9291 - val_loss: 0.3060 - val_acc: 0.8737\n",
      "Epoch 8/10\n",
      "100000/100000 [==============================] - 2789s 28ms/step - loss: 0.1768 - acc: 0.9329 - val_loss: 0.3037 - val_acc: 0.8874\n",
      "Epoch 9/10\n",
      "100000/100000 [==============================] - 2839s 28ms/step - loss: 0.1678 - acc: 0.9364 - val_loss: 0.2937 - val_acc: 0.8849\n",
      "Epoch 10/10\n",
      "100000/100000 [==============================] - 2790s 28ms/step - loss: 0.1607 - acc: 0.9397 - val_loss: 0.2931 - val_acc: 0.8811\n"
     ]
    }
   ],
   "source": [
    "history=model.fit(data, np.array(bin_labels), validation_split=0.5, epochs=10)"
   ]
  },
  {
   "cell_type": "code",
   "execution_count": null,
   "metadata": {},
   "outputs": [],
   "source": []
  }
 ],
 "metadata": {
  "kernelspec": {
   "display_name": "Python [default]",
   "language": "python",
   "name": "python3"
  },
  "language_info": {
   "codemirror_mode": {
    "name": "ipython",
    "version": 3
   },
   "file_extension": ".py",
   "mimetype": "text/x-python",
   "name": "python",
   "nbconvert_exporter": "python",
   "pygments_lexer": "ipython3",
   "version": "3.6.4"
  }
 },
 "nbformat": 4,
 "nbformat_minor": 2
}

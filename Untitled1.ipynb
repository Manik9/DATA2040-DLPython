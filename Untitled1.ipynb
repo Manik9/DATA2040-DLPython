{
 "cells": [
  {
   "cell_type": "code",
   "execution_count": null,
   "metadata": {},
   "outputs": [],
   "source": [
    "# BIGGER FOR 5 STARS\n",
    "\n",
    "texts = [review['text'] for review in reviews]\n",
    " \n",
    "# Convert our 5 classes into 2 (negative or positive)\n",
    "numStars = [review['stars'] for review in reviews]\n",
    "balanced_texts = []\n",
    "balanced_labels = []\n",
    "limit = 100000  # Change this to grow/shrink the dataset\n",
    "pos_counts = [0, 0, 0, 0, 0]\n",
    "for i in range(len(texts)):\n",
    "    score = numStars[i]-1\n",
    "    if pos_counts[score] < limit:\n",
    "        balanced_texts.append(texts[i])\n",
    "        balanced_labels.append(numStars[i]-1)\n",
    "        pos_counts[score] += 1\n",
    "        \n",
    "tokenizer = Tokenizer(num_words=20000)\n",
    "tokenizer.fit_on_texts(balanced_texts)\n",
    "sequences = tokenizer.texts_to_sequences(balanced_texts)\n",
    "data = pad_sequences(sequences, maxlen=300)\n",
    "        \n",
    "from keras.utils import to_categorical\n",
    "\n",
    "model = Sequential()\n",
    "model.add(Embedding(20000, 128, input_length=300))\n",
    "model.add(LSTM(128, dropout=0.2, recurrent_dropout=0.2))\n",
    "model.add(Dense(5, activation='sigmoid'))\n",
    "model.compile(loss='categorical_crossentropy', optimizer='rmsprop', metrics=['accuracy'],)\n",
    "newLabels=np.array(balanced_labels)\n",
    "newLabels=to_categorical(newLabels)\n",
    "print(newLabels.shape)\n",
    "print(data.shape)\n",
    "\n",
    "history_big=model.fit(data, newLabels, validation_split=0.4, epochs=5)"
   ]
  },
  {
   "cell_type": "code",
   "execution_count": null,
   "metadata": {},
   "outputs": [],
   "source": []
  }
 ],
 "metadata": {
  "kernelspec": {
   "display_name": "Python [default]",
   "language": "python",
   "name": "python3"
  },
  "language_info": {
   "codemirror_mode": {
    "name": "ipython",
    "version": 3
   },
   "file_extension": ".py",
   "mimetype": "text/x-python",
   "name": "python",
   "nbconvert_exporter": "python",
   "pygments_lexer": "ipython3",
   "version": "3.6.4"
  }
 },
 "nbformat": 4,
 "nbformat_minor": 2
}
